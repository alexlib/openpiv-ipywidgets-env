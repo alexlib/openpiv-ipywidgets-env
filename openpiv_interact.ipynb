{
 "cells": [
  {
   "cell_type": "code",
   "execution_count": 1,
   "metadata": {
    "collapsed": true
   },
   "outputs": [],
   "source": [
    "import ipympl\n",
    "import matplotlib.pyplot as plt\n",
    "%matplotlib notebook\n",
    "\n",
    "from openpiv import tools, process, scaling, filters, validation\n",
    "import numpy as np\n",
    "# %matplotlib notebook"
   ]
  },
  {
   "cell_type": "code",
   "execution_count": 2,
   "metadata": {
    "collapsed": true
   },
   "outputs": [],
   "source": [
    "frame_a  = tools.imread('20110919 exp3 x10 stream 568570.TIF')\n",
    "frame_b  = tools.imread('20110919 exp3 x10 stream 568571.TIF' )"
   ]
  },
  {
   "cell_type": "code",
   "execution_count": 14,
   "metadata": {
    "collapsed": true,
    "scrolled": true
   },
   "outputs": [],
   "source": [
    "def update(winsize,overlap,s2n,s2n_method):\n",
    "    u, v, sig2noise = process.extended_search_area_piv( frame_a.astype(np.int32), frame_b.astype(np.int32), window_size=winsize, overlap=overlap, dt=1.0, search_area_size=64, sig2noise_method=s2n_method )\n",
    "    x, y = process.get_coordinates( image_size=frame_a.shape, window_size=winsize, overlap=overlap )\n",
    "    u, v, mask = validation.sig2noise_val( u, v, sig2noise, threshold = s2n )\n",
    "    # u, v = filters.replace_outliers( u, v, method='localmean', max_iter=10, kernel_size=2)\n",
    "    # x, y, u, v = scaling.uniform(x, y, u, v, scaling_factor = 1.0 )\n",
    "    # tools.save(x, y, u, v, mask, 'tutorial-part3.txt' )\n",
    "    fig,ax = plt.subplots()\n",
    "    ax.imshow(tools.imread('20110919 exp3 x10 stream 488570.TIF'),cmap=plt.cm.gray,origin='upper')\n",
    "    ax.quiver(x,np.flipud(y),u/10.,v/10.,scale=10,color='r',lw=3)\n",
    "    plt.show()\n",
    "    \n",
    "# update(winsize=32,overlap=16)\n",
    "\n"
   ]
  },
  {
   "cell_type": "code",
   "execution_count": 17,
   "metadata": {},
   "outputs": [
    {
     "data": {
      "application/vnd.jupyter.widget-view+json": {
       "model_id": "dd21c06091a24bb4a8e44092189d9afc"
      }
     },
     "metadata": {},
     "output_type": "display_data"
    }
   ],
   "source": [
    "from ipywidgets import interact, interactive, HBox, VBox, Box\n",
    "interactive_plot = interact(update, winsize=[32,64,128], overlap=[16,32,64],s2n=(1.0,10.0,0.1),s2n_method=['peak2peak','peak2mean'])\n",
    "# _ = interact(update, winsize=[32,64,128], overlap=[16,32,64],s2n=(1.0,3.0,0.1))\n",
    "# interactive_plot.layout.height = '800px'\n",
    "# interactive_plot"
   ]
  },
  {
   "cell_type": "code",
   "execution_count": null,
   "metadata": {
    "collapsed": true
   },
   "outputs": [],
   "source": []
  },
  {
   "cell_type": "code",
   "execution_count": null,
   "metadata": {
    "collapsed": true
   },
   "outputs": [],
   "source": []
  },
  {
   "cell_type": "code",
   "execution_count": null,
   "metadata": {
    "collapsed": true
   },
   "outputs": [],
   "source": []
  }
 ],
 "metadata": {
  "kernelspec": {
   "display_name": "Python 3",
   "language": "python",
   "name": "python3"
  },
  "language_info": {
   "codemirror_mode": {
    "name": "ipython",
    "version": 3
   },
   "file_extension": ".py",
   "mimetype": "text/x-python",
   "name": "python",
   "nbconvert_exporter": "python",
   "pygments_lexer": "ipython3",
   "version": "3.6.1"
  }
 },
 "nbformat": 4,
 "nbformat_minor": 2
}
